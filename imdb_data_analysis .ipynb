{
 "cells": [
  {
   "cell_type": "code",
   "execution_count": 102,
   "id": "5332ad05-f4e2-4914-bd7a-a3229ab2f4c6",
   "metadata": {},
   "outputs": [
    {
     "name": "stderr",
     "output_type": "stream",
     "text": [
      "[nltk_data] Downloading package punkt to\n",
      "[nltk_data]     C:\\Users\\numan\\AppData\\Roaming\\nltk_data...\n",
      "[nltk_data]   Package punkt is already up-to-date!\n",
      "[nltk_data] Downloading package stopwords to\n",
      "[nltk_data]     C:\\Users\\numan\\AppData\\Roaming\\nltk_data...\n",
      "[nltk_data]   Package stopwords is already up-to-date!\n",
      "[nltk_data] Downloading package wordnet to\n",
      "[nltk_data]     C:\\Users\\numan\\AppData\\Roaming\\nltk_data...\n",
      "[nltk_data]   Package wordnet is already up-to-date!\n"
     ]
    },
    {
     "data": {
      "text/plain": [
       "True"
      ]
     },
     "execution_count": 102,
     "metadata": {},
     "output_type": "execute_result"
    }
   ],
   "source": [
    "# Importing necessary libraries\n",
    "import pandas as pd\n",
    "import numpy as np\n",
    "import matplotlib.pyplot as plt\n",
    "import seaborn as sns\n",
    "import string\n",
    "import re\n",
    "from sklearn.feature_extraction.text import CountVectorizer, TfidfVectorizer\n",
    "from nltk.corpus import stopwords\n",
    "from nltk.tokenize import word_tokenize\n",
    "from nltk.stem import PorterStemmer, WordNetLemmatizer\n",
    "import nltk\n",
    "nltk.download(\"punkt\")\n",
    "nltk.download(\"stopwords\")\n",
    "nltk.download(\"wordnet\")"
   ]
  },
  {
   "cell_type": "code",
   "execution_count": 104,
   "id": "4a2842a9-9a54-484f-8b6e-ed0794d3ebe5",
   "metadata": {},
   "outputs": [],
   "source": [
    "# Importing the dataset\n",
    "import pandas as pd\n",
    "df = pd.read_csv(\"imdb_data.csv\")"
   ]
  },
  {
   "cell_type": "code",
   "execution_count": 106,
   "id": "8fb26c68-974c-449f-823c-f1e37b5cdb6c",
   "metadata": {},
   "outputs": [
    {
     "data": {
      "text/html": [
       "<div>\n",
       "<style scoped>\n",
       "    .dataframe tbody tr th:only-of-type {\n",
       "        vertical-align: middle;\n",
       "    }\n",
       "\n",
       "    .dataframe tbody tr th {\n",
       "        vertical-align: top;\n",
       "    }\n",
       "\n",
       "    .dataframe thead th {\n",
       "        text-align: right;\n",
       "    }\n",
       "</style>\n",
       "<table border=\"1\" class=\"dataframe\">\n",
       "  <thead>\n",
       "    <tr style=\"text-align: right;\">\n",
       "      <th></th>\n",
       "      <th>review</th>\n",
       "      <th>sentiment</th>\n",
       "    </tr>\n",
       "  </thead>\n",
       "  <tbody>\n",
       "    <tr>\n",
       "      <th>0</th>\n",
       "      <td>One of the other reviewers has mentioned that ...</td>\n",
       "      <td>positive</td>\n",
       "    </tr>\n",
       "    <tr>\n",
       "      <th>1</th>\n",
       "      <td>A wonderful little production. &lt;br /&gt;&lt;br /&gt;The...</td>\n",
       "      <td>positive</td>\n",
       "    </tr>\n",
       "    <tr>\n",
       "      <th>2</th>\n",
       "      <td>I thought this was a wonderful way to spend ti...</td>\n",
       "      <td>positive</td>\n",
       "    </tr>\n",
       "    <tr>\n",
       "      <th>3</th>\n",
       "      <td>Basically there's a family where a little boy ...</td>\n",
       "      <td>negative</td>\n",
       "    </tr>\n",
       "    <tr>\n",
       "      <th>4</th>\n",
       "      <td>Petter Mattei's \"Love in the Time of Money\" is...</td>\n",
       "      <td>positive</td>\n",
       "    </tr>\n",
       "  </tbody>\n",
       "</table>\n",
       "</div>"
      ],
      "text/plain": [
       "                                              review sentiment\n",
       "0  One of the other reviewers has mentioned that ...  positive\n",
       "1  A wonderful little production. <br /><br />The...  positive\n",
       "2  I thought this was a wonderful way to spend ti...  positive\n",
       "3  Basically there's a family where a little boy ...  negative\n",
       "4  Petter Mattei's \"Love in the Time of Money\" is...  positive"
      ]
     },
     "execution_count": 106,
     "metadata": {},
     "output_type": "execute_result"
    }
   ],
   "source": [
    "df.head()"
   ]
  },
  {
   "cell_type": "code",
   "execution_count": 108,
   "id": "76b6b70f-5fda-4a85-81ec-2e8fef821aa3",
   "metadata": {},
   "outputs": [
    {
     "data": {
      "text/html": [
       "<div>\n",
       "<style scoped>\n",
       "    .dataframe tbody tr th:only-of-type {\n",
       "        vertical-align: middle;\n",
       "    }\n",
       "\n",
       "    .dataframe tbody tr th {\n",
       "        vertical-align: top;\n",
       "    }\n",
       "\n",
       "    .dataframe thead th {\n",
       "        text-align: right;\n",
       "    }\n",
       "</style>\n",
       "<table border=\"1\" class=\"dataframe\">\n",
       "  <thead>\n",
       "    <tr style=\"text-align: right;\">\n",
       "      <th></th>\n",
       "      <th>review</th>\n",
       "      <th>sentiment</th>\n",
       "    </tr>\n",
       "  </thead>\n",
       "  <tbody>\n",
       "    <tr>\n",
       "      <th>count</th>\n",
       "      <td>46055</td>\n",
       "      <td>46054</td>\n",
       "    </tr>\n",
       "    <tr>\n",
       "      <th>unique</th>\n",
       "      <td>45713</td>\n",
       "      <td>2</td>\n",
       "    </tr>\n",
       "    <tr>\n",
       "      <th>top</th>\n",
       "      <td>Loved today's show!!! It was a variety and not...</td>\n",
       "      <td>positive</td>\n",
       "    </tr>\n",
       "    <tr>\n",
       "      <th>freq</th>\n",
       "      <td>5</td>\n",
       "      <td>23057</td>\n",
       "    </tr>\n",
       "  </tbody>\n",
       "</table>\n",
       "</div>"
      ],
      "text/plain": [
       "                                                   review sentiment\n",
       "count                                               46055     46054\n",
       "unique                                              45713         2\n",
       "top     Loved today's show!!! It was a variety and not...  positive\n",
       "freq                                                    5     23057"
      ]
     },
     "execution_count": 108,
     "metadata": {},
     "output_type": "execute_result"
    }
   ],
   "source": [
    "df.describe()"
   ]
  },
  {
   "cell_type": "code",
   "execution_count": 110,
   "id": "00202c6c-cfbe-491a-aef3-9697cd168220",
   "metadata": {},
   "outputs": [
    {
     "name": "stdout",
     "output_type": "stream",
     "text": [
      "<class 'pandas.core.frame.DataFrame'>\n",
      "RangeIndex: 46055 entries, 0 to 46054\n",
      "Data columns (total 2 columns):\n",
      " #   Column     Non-Null Count  Dtype \n",
      "---  ------     --------------  ----- \n",
      " 0   review     46055 non-null  object\n",
      " 1   sentiment  46054 non-null  object\n",
      "dtypes: object(2)\n",
      "memory usage: 719.7+ KB\n"
     ]
    }
   ],
   "source": [
    "df.info()"
   ]
  },
  {
   "cell_type": "code",
   "execution_count": 112,
   "id": "a3dd71d7-968f-4758-b9f3-7952e188b74e",
   "metadata": {},
   "outputs": [
    {
     "data": {
      "text/plain": [
       "review       0\n",
       "sentiment    1\n",
       "dtype: int64"
      ]
     },
     "execution_count": 112,
     "metadata": {},
     "output_type": "execute_result"
    }
   ],
   "source": [
    "df.isnull().sum()"
   ]
  },
  {
   "cell_type": "code",
   "execution_count": 114,
   "id": "14534db4-c21b-4755-8101-2d0345966888",
   "metadata": {},
   "outputs": [],
   "source": [
    "# dropping empty/null rows\n",
    "df.dropna(inplace = True)"
   ]
  },
  {
   "cell_type": "code",
   "execution_count": 116,
   "id": "244f44f0-c640-4e72-bb2c-43b69431a5ae",
   "metadata": {},
   "outputs": [
    {
     "data": {
      "text/plain": [
       "review       0\n",
       "sentiment    0\n",
       "dtype: int64"
      ]
     },
     "execution_count": 116,
     "metadata": {},
     "output_type": "execute_result"
    }
   ],
   "source": [
    "df.isnull().sum()"
   ]
  },
  {
   "cell_type": "code",
   "execution_count": 118,
   "id": "e5f0e362-3e19-47b7-b976-518e47398f82",
   "metadata": {},
   "outputs": [
    {
     "name": "stdout",
     "output_type": "stream",
     "text": [
      "sentiment\n",
      "positive    23057\n",
      "negative    22997\n",
      "Name: count, dtype: int64\n",
      "\n",
      "----------------------------------------------------------------------------------------------------------------\n"
     ]
    },
    {
     "data": {
      "image/png": "[encoded data removed]",
      "text/plain": [
       "<Figure size 640x480 with 1 Axes>"
      ]
     },
     "metadata": {},
     "output_type": "display_data"
    }
   ],
   "source": [
    "# Checking the number of positive and negative value counts and visualizing it\n",
    "print(df[\"sentiment\"].value_counts())\n",
    "print(\"\\n----------------------------------------------------------------------------------------------------------------\")\n",
    "sns.countplot(x=df[\"sentiment\"]).set(title=\"Count Plot of Sentiments\", xlabel=\"Sentiment\", ylabel=\"Count\")\n",
    "plt.show()"
   ]
  },
  {
   "cell_type": "code",
   "execution_count": 120,
   "id": "e8ae9ef5-e939-4dc3-aeea-284e3bb33d6d",
   "metadata": {},
   "outputs": [],
   "source": [
    "# Analyzing the lenght of the reviews column\n",
    "df['l_review'] = df['review'].apply(lambda x: len(x.split()))\n"
   ]
  },
  {
   "cell_type": "code",
   "execution_count": 122,
   "id": "4c9c05b5-1630-4dfb-a036-2894baf427f5",
   "metadata": {},
   "outputs": [
    {
     "data": {
      "image/png": "[encoded data removed]",
      "text/plain": [
       "<Figure size 1000x500 with 1 Axes>"
      ]
     },
     "metadata": {},
     "output_type": "display_data"
    }
   ],
   "source": [
    "# VIsualizing the review column\n",
    "plt.figure(figsize=(10,5))\n",
    "sns.histplot(df['l_review'], bins=40, kde=True, color='green')\n",
    "plt.xlabel('# of Words')\n",
    "plt.ylabel('Freq in the dataset')\n",
    "plt.show()"
   ]
  },
  {
   "cell_type": "code",
   "execution_count": 124,
   "id": "14cb3c2c-9687-4a8a-8711-2a1d40108873",
   "metadata": {},
   "outputs": [
    {
     "name": "stdout",
     "output_type": "stream",
     "text": [
      "\n",
      "Sample Review After Cleaning:\n",
      "one reviewer mentioned watching oz episode youll hooked right exactly happened methe first thing struck oz brutality unflinching scene violence set right word go trust show faint hearted timid show pull punch regard drug sex violence hardcore classic use wordit called oz nickname given oswald maximum security state penitentary focus mainly emerald city experimental section prison cell glass front face inwards privacy high agenda em city home manyaryans muslim gangsta latino christian italian irish moreso scuffle death stare dodgy dealing shady agreement never far awayi would say main appeal show due fact go show wouldnt dare forget pretty picture painted mainstream audience forget charm forget romanceoz doesnt mess around first episode ever saw struck nasty surreal couldnt say ready watched developed taste oz got accustomed high level graphic violence violence injustice crooked guard wholl sold nickel inmate wholl kill order get away well mannered middle class inmate turned prison bitch due lack street skill prison experience watching oz may become comfortable uncomfortable viewingthats get touch darker side\n"
     ]
    }
   ],
   "source": [
    "# preprocessing\n",
    "stop_words = set(stopwords.words('english'))\n",
    "stemmer = PorterStemmer()\n",
    "lemmatizer = WordNetLemmatizer()\n",
    "\n",
    "\n",
    "\n",
    "def preprocess_text(text):\n",
    "    if not isinstance(text, str): # Ensure input is a string\n",
    "        return \"\"\n",
    "\n",
    "    # Remove HTML tags properly\n",
    "    text = re.sub(r\"<.*?>\", \"\", text)\n",
    "    # Convert to lowercase\n",
    "    text = text.lower()\n",
    "    # Remove punctuation and special characters\n",
    "    text = re.sub(r'[^a-zA-Z\\s]', '', text) # Keep only letters and spaces\n",
    "    # Tokenization\n",
    "    tokens = word_tokenize(text)\n",
    "    # Remove stopwords\n",
    "    tokens = [word for word in tokens if word not in stop_words]\n",
    "    # Lemmatization\n",
    "    tokens = [lemmatizer.lemmatize(word) for word in tokens]\n",
    "    # Rejoin words into cleaned text\n",
    "    return ' '.join(tokens)\n",
    "\n",
    "\n",
    "# Apply preprocessing\n",
    "df['cleaned_review'] = df['review'].apply(preprocess_text)\n",
    "# Sample after cleaning\n",
    "\n",
    "print(\"\\nSample Review After Cleaning:\")\n",
    "print(df['cleaned_review'].iloc[0])"
   ]
  },
  {
   "cell_type": "code",
   "execution_count": 126,
   "id": "52ea7c06-7742-4448-96e0-2e55e1fb6b01",
   "metadata": {},
   "outputs": [
    {
     "name": "stdout",
     "output_type": "stream",
     "text": [
      "\n",
      "BoW Matrix Shape: (46054, 192860)\n",
      "\n",
      "TF-IDF Matrix Shape: (46054, 192860)\n",
      "\n",
      "Sample BoW Features:\n",
      "['aa' 'aaa' 'aaaaaaaaaaaahhhhhhhhhhhhhh' 'aaaaaaaargh' 'aaaaaaah'\n",
      " 'aaaaaaahhhhhhggg' 'aaaaagh' 'aaaaah' 'aaaaargh'\n",
      " 'aaaaarrrrrrgggggghhhhhh' 'aaaaatchkah' 'aaaaaw' 'aaaahhhhhh'\n",
      " 'aaaahhhhhhh' 'aaaand' 'aaaarrgh' 'aaaawwwwww' 'aaaggghhhhhhh' 'aaaghi'\n",
      " 'aaah' 'aaahthe' 'aaall' 'aaand' 'aaargh' 'aaarghhow' 'aaarrrghim'\n",
      " 'aaaugh' 'aab' 'aachen' 'aada' 'aadha' 'aadmittedly' 'aag' 'aage' 'aaghh'\n",
      " 'aah' 'aahed' 'aahemy' 'aahhh' 'aahhhh' 'aahing' 'aaila' 'aailiyah'\n",
      " 'aaip' 'aaja' 'aajala' 'aak' 'aakash' 'aake' 'aaker']\n",
      "\n",
      "Sample TF-IDF Features:\n",
      "['aa' 'aaa' 'aaaaaaaaaaaahhhhhhhhhhhhhh' 'aaaaaaaargh' 'aaaaaaah'\n",
      " 'aaaaaaahhhhhhggg' 'aaaaagh' 'aaaaah' 'aaaaargh'\n",
      " 'aaaaarrrrrrgggggghhhhhh' 'aaaaatchkah' 'aaaaaw' 'aaaahhhhhh'\n",
      " 'aaaahhhhhhh' 'aaaand' 'aaaarrgh' 'aaaawwwwww' 'aaaggghhhhhhh' 'aaaghi'\n",
      " 'aaah' 'aaahthe' 'aaall' 'aaand' 'aaargh' 'aaarghhow' 'aaarrrghim'\n",
      " 'aaaugh' 'aab' 'aachen' 'aada' 'aadha' 'aadmittedly' 'aag' 'aage' 'aaghh'\n",
      " 'aah' 'aahed' 'aahemy' 'aahhh' 'aahhhh' 'aahing' 'aaila' 'aailiyah'\n",
      " 'aaip' 'aaja' 'aajala' 'aak' 'aakash' 'aake' 'aaker']\n"
     ]
    }
   ],
   "source": [
    "# Vectorization\n",
    "\n",
    "# Bag of Words (BoW)\n",
    "bow_vectorizer = CountVectorizer()\n",
    "X_bow = bow_vectorizer.fit_transform(df['cleaned_review'])\n",
    "\n",
    "# TF-IDF\n",
    "tfidf_vectorizer = TfidfVectorizer()\n",
    "X_tfidf = tfidf_vectorizer.fit_transform(df['cleaned_review'])\n",
    "print(\"\\nBoW Matrix Shape:\", X_bow.shape)\n",
    "print(\"\\nTF-IDF Matrix Shape:\", X_tfidf.shape)\n",
    "\n",
    "# Preview sample BoW features\n",
    "print(\"\\nSample BoW Features:\")\n",
    "\n",
    "print(bow_vectorizer.get_feature_names_out()[:50])\n",
    "\n",
    "# Preview sample TF-IDF features\n",
    "print(\"\\nSample TF-IDF Features:\")\n",
    "print(tfidf_vectorizer.get_feature_names_out()[:50])"
   ]
  },
  {
   "cell_type": "code",
   "execution_count": 128,
   "id": "541792f5-ce01-46ac-b13c-2c536091c00d",
   "metadata": {},
   "outputs": [
    {
     "name": "stdout",
     "output_type": "stream",
     "text": [
      "   aaron  abandoned  abc  ability  able  abrupt  absence  absent  absolute  \\\n",
      "0    0.0        0.0  0.0      0.0   0.0     0.0      0.0     0.0       0.0   \n",
      "1    0.0        0.0  0.0      0.0   0.0     0.0      0.0     0.0       0.0   \n",
      "2    0.0        0.0  0.0      0.0   0.0     0.0      0.0     0.0       0.0   \n",
      "3    0.0        0.0  0.0      0.0   0.0     0.0      0.0     0.0       0.0   \n",
      "4    0.0        0.0  0.0      0.0   0.0     0.0      0.0     0.0       0.0   \n",
      "\n",
      "   absolutely  ...  youd     youll     young  younger     youre  youth  youve  \\\n",
      "0         0.0  ...   0.0  0.058207  0.000000      0.0  0.000000    0.0    0.0   \n",
      "1         0.0  ...   0.0  0.000000  0.000000      0.0  0.000000    0.0    0.0   \n",
      "2         0.0  ...   0.0  0.000000  0.080361      0.0  0.000000    0.0    0.0   \n",
      "3         0.0  ...   0.0  0.000000  0.000000      0.0  0.081712    0.0    0.0   \n",
      "4         0.0  ...   0.0  0.000000  0.000000      0.0  0.000000    0.0    0.0   \n",
      "\n",
      "   zero    zombie  zone  \n",
      "0   0.0  0.000000   0.0  \n",
      "1   0.0  0.000000   0.0  \n",
      "2   0.0  0.000000   0.0  \n",
      "3   0.0  0.113613   0.0  \n",
      "4   0.0  0.000000   0.0  \n",
      "\n",
      "[5 rows x 5000 columns]\n"
     ]
    }
   ],
   "source": [
    "import gensim\n",
    "from gensim.models import Word2Vec\n",
    "# Initialize TF-IDF vectorizer\n",
    "tfidf_vectorizer = TfidfVectorizer(max_features=5000) # Limit to 5000 features\n",
    "# Transform text data into TF-IDF features\n",
    "tfidf_features = tfidf_vectorizer.fit_transform(df[\"cleaned_review\"])\n",
    "# Convert to DataFrame\n",
    "tfidf_df = pd.DataFrame(tfidf_features.toarray(), columns=tfidf_vectorizer.get_feature_names_out())\n",
    "# Display sample TF-IDF features\n",
    "print(tfidf_df.head())"
   ]
  },
  {
   "cell_type": "code",
   "execution_count": 130,
   "id": "5b3186d4-6aaf-449e-858c-acf30aa0b6bf",
   "metadata": {},
   "outputs": [
    {
     "data": {
      "text/html": [
       "<div>\n",
       "<style scoped>\n",
       "    .dataframe tbody tr th:only-of-type {\n",
       "        vertical-align: middle;\n",
       "    }\n",
       "\n",
       "    .dataframe tbody tr th {\n",
       "        vertical-align: top;\n",
       "    }\n",
       "\n",
       "    .dataframe thead th {\n",
       "        text-align: right;\n",
       "    }\n",
       "</style>\n",
       "<table border=\"1\" class=\"dataframe\">\n",
       "  <thead>\n",
       "    <tr style=\"text-align: right;\">\n",
       "      <th></th>\n",
       "      <th>word2vec_embedding</th>\n",
       "    </tr>\n",
       "  </thead>\n",
       "  <tbody>\n",
       "    <tr>\n",
       "      <th>0</th>\n",
       "      <td>[-0.36661482, 0.45929754, 0.26780674, -0.15357...</td>\n",
       "    </tr>\n",
       "    <tr>\n",
       "      <th>1</th>\n",
       "      <td>[-0.08865055, 0.5667219, -0.58206546, 0.238113...</td>\n",
       "    </tr>\n",
       "    <tr>\n",
       "      <th>2</th>\n",
       "      <td>[-0.36259583, 0.22964624, -0.31624943, 0.13667...</td>\n",
       "    </tr>\n",
       "    <tr>\n",
       "      <th>3</th>\n",
       "      <td>[-0.4841763, 0.27168053, 0.0050521833, 0.02832...</td>\n",
       "    </tr>\n",
       "    <tr>\n",
       "      <th>4</th>\n",
       "      <td>[-0.105996676, 0.18598995, -0.06704725, -0.031...</td>\n",
       "    </tr>\n",
       "  </tbody>\n",
       "</table>\n",
       "</div>"
      ],
      "text/plain": [
       "                                  word2vec_embedding\n",
       "0  [-0.36661482, 0.45929754, 0.26780674, -0.15357...\n",
       "1  [-0.08865055, 0.5667219, -0.58206546, 0.238113...\n",
       "2  [-0.36259583, 0.22964624, -0.31624943, 0.13667...\n",
       "3  [-0.4841763, 0.27168053, 0.0050521833, 0.02832...\n",
       "4  [-0.105996676, 0.18598995, -0.06704725, -0.031..."
      ]
     },
     "execution_count": 130,
     "metadata": {},
     "output_type": "execute_result"
    }
   ],
   "source": [
    "# Tokenize reviews for Word2Vec\n",
    "df['tokenized_review'] = df['cleaned_review'].apply(lambda x:word_tokenize(str(x).lower()))\n",
    "# Train Word2Vec model\n",
    "word2vec_model = Word2Vec(sentences=df['tokenized_review'], vector_size=100, window=5, min_count=2, workers=4)\n",
    "# Function to get review embeddings by averaging word vectors\n",
    "def get_word2vec_embedding(tokens, model):\n",
    "    vectors = [model.wv[word] for word in tokens if word in model.wv]\n",
    "    return sum(vectors) / len(vectors) if vectors else [0] * 100 # Handling empty tokens\n",
    "# Apply function to get Word2Vec embeddings\n",
    "df['word2vec_embedding'] = df['tokenized_review'].apply(lambda x:get_word2vec_embedding(x, word2vec_model))\n",
    "# Show first few embeddings\n",
    "df[['word2vec_embedding']].head()"
   ]
  },
  {
   "cell_type": "code",
   "execution_count": 132,
   "id": "713d6698-92d6-425d-b20e-9082351c69c1",
   "metadata": {},
   "outputs": [
    {
     "data": {
      "text/html": [
       "<div>\n",
       "<style scoped>\n",
       "    .dataframe tbody tr th:only-of-type {\n",
       "        vertical-align: middle;\n",
       "    }\n",
       "\n",
       "    .dataframe tbody tr th {\n",
       "        vertical-align: top;\n",
       "    }\n",
       "\n",
       "    .dataframe thead th {\n",
       "        text-align: right;\n",
       "    }\n",
       "</style>\n",
       "<table border=\"1\" class=\"dataframe\">\n",
       "  <thead>\n",
       "    <tr style=\"text-align: right;\">\n",
       "      <th></th>\n",
       "      <th>cleaned_review</th>\n",
       "      <th>word_count</th>\n",
       "      <th>char_count</th>\n",
       "      <th>avg_word_length</th>\n",
       "    </tr>\n",
       "  </thead>\n",
       "  <tbody>\n",
       "    <tr>\n",
       "      <th>0</th>\n",
       "      <td>one reviewer mentioned watching oz episode you...</td>\n",
       "      <td>167</td>\n",
       "      <td>1125</td>\n",
       "      <td>6.736527</td>\n",
       "    </tr>\n",
       "    <tr>\n",
       "      <th>1</th>\n",
       "      <td>wonderful little production filming technique ...</td>\n",
       "      <td>84</td>\n",
       "      <td>640</td>\n",
       "      <td>7.619048</td>\n",
       "    </tr>\n",
       "    <tr>\n",
       "      <th>2</th>\n",
       "      <td>thought wonderful way spend time hot summer we...</td>\n",
       "      <td>85</td>\n",
       "      <td>580</td>\n",
       "      <td>6.823529</td>\n",
       "    </tr>\n",
       "    <tr>\n",
       "      <th>3</th>\n",
       "      <td>basically there family little boy jake think t...</td>\n",
       "      <td>66</td>\n",
       "      <td>446</td>\n",
       "      <td>6.757576</td>\n",
       "    </tr>\n",
       "    <tr>\n",
       "      <th>4</th>\n",
       "      <td>petter matteis love time money visually stunni...</td>\n",
       "      <td>125</td>\n",
       "      <td>851</td>\n",
       "      <td>6.808000</td>\n",
       "    </tr>\n",
       "  </tbody>\n",
       "</table>\n",
       "</div>"
      ],
      "text/plain": [
       "                                      cleaned_review  word_count  char_count  \\\n",
       "0  one reviewer mentioned watching oz episode you...         167        1125   \n",
       "1  wonderful little production filming technique ...          84         640   \n",
       "2  thought wonderful way spend time hot summer we...          85         580   \n",
       "3  basically there family little boy jake think t...          66         446   \n",
       "4  petter matteis love time money visually stunni...         125         851   \n",
       "\n",
       "   avg_word_length  \n",
       "0         6.736527  \n",
       "1         7.619048  \n",
       "2         6.823529  \n",
       "3         6.757576  \n",
       "4         6.808000  "
      ]
     },
     "execution_count": 132,
     "metadata": {},
     "output_type": "execute_result"
    }
   ],
   "source": [
    "# Word count (number of words in a review)\n",
    "df['word_count'] = df['cleaned_review'].apply(lambda x: len(str(x).split()))\n",
    "\n",
    "# Character count (total number of characters in a review)\n",
    "df['char_count'] = df['cleaned_review'].apply(lambda x: len(str(x)))\n",
    "\n",
    "# Average word length (ratio of character count to word count)\n",
    "df['avg_word_length'] = df['char_count'] / df['word_count']\n",
    "df[['cleaned_review', 'word_count', 'char_count', 'avg_word_length']].head()"
   ]
  },
  {
   "cell_type": "markdown",
   "id": "3df038c2-df89-4ab4-b494-2fc9e0815927",
   "metadata": {},
   "source": [
    "## Modelling"
   ]
  },
  {
   "cell_type": "code",
   "execution_count": 160,
   "id": "58b5f24c-b340-4a9c-8774-7686afd1fdd9",
   "metadata": {},
   "outputs": [],
   "source": [
    "from sklearn.model_selection import train_test_split\n",
    "from sklearn.naive_bayes import MultinomialNB\n",
    "from sklearn.linear_model import LogisticRegression\n",
    "from sklearn.svm import SVC\n",
    "from sklearn.ensemble import RandomForestClassifier\n",
    "from sklearn.metrics import accuracy_score, f1_score, roc_auc_score, classification_report, confusion_matrix\n",
    "# Convert sentiment labels into binary values (1 for positive, 0 for negative)\n",
    "# Map only if values are still strings (positive/negative)\n",
    "if df['sentiment'].dtype == 'object':  \n",
    "    df['sentiment'] = df['sentiment'].map({'positive': 1, 'negative': 0})\n",
    "\n",
    "# TF-IDF Vectorization\n",
    "vectorizer = TfidfVectorizer(max_features=5000) # Limiting to 5000 features\n",
    "X = vectorizer.fit_transform(df['cleaned_review'])\n",
    "y = df['sentiment']\n",
    "# Splitting data\n",
    "X_train, X_test, y_train, y_test = train_test_split(X, y, test_size=0.2, random_state=42)"
   ]
  },
  {
   "cell_type": "code",
   "execution_count": 189,
   "id": "225cfb43-5114-4cc2-ade4-9922a27d64a7",
   "metadata": {},
   "outputs": [
    {
     "name": "stdout",
     "output_type": "stream",
     "text": [
      "Naive Bayes Performance:------------------------------------------------------------\n",
      "Accuracy: 0.850830528715666\n",
      "F1-score: 0.8530795551753636\n",
      "ROC-AUC: 0.8507636735052228\n",
      "              precision    recall  f1-score   support\n",
      "\n",
      "           0       0.85      0.84      0.85      4557\n",
      "           1       0.85      0.86      0.85      4654\n",
      "\n",
      "    accuracy                           0.85      9211\n",
      "   macro avg       0.85      0.85      0.85      9211\n",
      "weighted avg       0.85      0.85      0.85      9211\n",
      "\n"
     ]
    }
   ],
   "source": [
    "# Naive Bayes Model\n",
    "naive_bayes_model = MultinomialNB()\n",
    "naive_bayes_model.fit(X_train, y_train)\n",
    "y_pred_nb = naive_bayes_model.predict(X_test)\n",
    "# Evaluating\n",
    "print(\"Naive Bayes Performance:------------------------------------------------------------\")\n",
    "print(\"Accuracy:\", accuracy_score(y_test, y_pred_nb))\n",
    "print(\"F1-score:\", f1_score(y_test, y_pred_nb))\n",
    "print(\"ROC-AUC:\", roc_auc_score(y_test, y_pred_nb))\n",
    "print(classification_report(y_test, y_pred_nb))"
   ]
  },
  {
   "cell_type": "code",
   "execution_count": 173,
   "id": "5249d53e-7632-48a0-a27e-ce78b7707e37",
   "metadata": {},
   "outputs": [
    {
     "name": "stdout",
     "output_type": "stream",
     "text": [
      "Logistic Regression Performance:---------------------------------------------------\n",
      "Accuracy: 0.8806861361415699\n",
      "F1-score: 0.8828732814664819\n",
      "ROC-AUC: 0.8805871462077215\n",
      "              precision    recall  f1-score   support\n",
      "\n",
      "           0       0.89      0.87      0.88      4557\n",
      "           1       0.88      0.89      0.88      4654\n",
      "\n",
      "    accuracy                           0.88      9211\n",
      "   macro avg       0.88      0.88      0.88      9211\n",
      "weighted avg       0.88      0.88      0.88      9211\n",
      "\n"
     ]
    }
   ],
   "source": [
    "# Logistic Regression Model\n",
    "lr_model = LogisticRegression(max_iter=200)\n",
    "lr_model.fit(X_train, y_train)\n",
    "y_pred_lr = lr_model.predict(X_test)\n",
    "\n",
    "# Evaluating\n",
    "print(\"Logistic Regression Performance:---------------------------------------------------\")\n",
    "print(\"Accuracy:\", accuracy_score(y_test, y_pred_lr))\n",
    "print(\"F1-score:\", f1_score(y_test, y_pred_lr))\n",
    "print(\"ROC-AUC:\", roc_auc_score(y_test, y_pred_lr))\n",
    "print(classification_report(y_test, y_pred_lr))"
   ]
  },
  {
   "cell_type": "code",
   "execution_count": 175,
   "id": "ccb5fd6f-daba-4176-ae05-1b67101cef1c",
   "metadata": {},
   "outputs": [],
   "source": [
    "# Random Forrest Model\n",
    "rf_model = RandomForestClassifier(n_estimators=100)\n",
    "rf_model.fit(X_train, y_train)\n",
    "y_pred_rf = rf_model.predict(X_test)"
   ]
  },
  {
   "cell_type": "code",
   "execution_count": 177,
   "id": "90da906c-86f3-4c15-ac98-d74feef7c09e",
   "metadata": {},
   "outputs": [
    {
     "name": "stdout",
     "output_type": "stream",
     "text": [
      "Random Forest Performance:---------------------------------------------------------\n",
      "Accuracy: 0.8418195635653024\n",
      "F1-score: 0.8422648045902349\n",
      "ROC-AUC: 0.8418832023986105\n",
      "              precision    recall  f1-score   support\n",
      "\n",
      "           0       0.83      0.85      0.84      4557\n",
      "           1       0.85      0.84      0.84      4654\n",
      "\n",
      "    accuracy                           0.84      9211\n",
      "   macro avg       0.84      0.84      0.84      9211\n",
      "weighted avg       0.84      0.84      0.84      9211\n",
      "\n"
     ]
    }
   ],
   "source": [
    "# Evaluate Model\n",
    "print(\"Random Forest Performance:---------------------------------------------------------\")\n",
    "print(\"Accuracy:\", accuracy_score(y_test, y_pred_rf))\n",
    "print(\"F1-score:\", f1_score(y_test, y_pred_rf))\n",
    "print(\"ROC-AUC:\", roc_auc_score(y_test, y_pred_rf))\n",
    "print(classification_report(y_test, y_pred_rf))"
   ]
  },
  {
   "cell_type": "code",
   "execution_count": 205,
   "id": "4f9ce733-0df2-40e1-8e88-712bf57b13d4",
   "metadata": {},
   "outputs": [
    {
     "name": "stdout",
     "output_type": "stream",
     "text": [
      "                 Model  Accuracy  F1-score   ROC-AUC\n",
      "0          Naive Bayes  0.850831  0.853080  0.850764\n",
      "1  Logistic Regression  0.880686  0.882873  0.880587\n",
      "2        Random Forest  0.841820  0.842265  0.841883\n"
     ]
    },
    {
     "name": "stderr",
     "output_type": "stream",
     "text": [
      "C:\\Users\\numan\\AppData\\Local\\Temp\\ipykernel_14768\\1044640117.py:11: FutureWarning: \n",
      "\n",
      "Passing `palette` without assigning `hue` is deprecated and will be removed in v0.14.0. Assign the `x` variable to `hue` and set `legend=False` for the same effect.\n",
      "\n",
      "  sns.barplot(x = \"Model\", y = \"Accuracy\", data = model_results, palette = \"coolwarm\")\n"
     ]
    },
    {
     "data": {
      "image/png": "[encoded data removed]",
      "text/plain": [
       "<Figure size 640x480 with 1 Axes>"
      ]
     },
     "metadata": {},
     "output_type": "display_data"
    }
   ],
   "source": [
    "# Gather, summarize and visualize the results\n",
    "model_results = pd.DataFrame({\n",
    "\"Model\": [\"Naive Bayes\", \"Logistic Regression\", \"Random Forest\"],\n",
    "\"Accuracy\": [accuracy_score(y_test, y_pred_nb), accuracy_score(y_test, y_pred_lr), accuracy_score(y_test, y_pred_rf)],\n",
    "\"F1-score\": [f1_score(y_test, y_pred_nb), f1_score(y_test, y_pred_lr), f1_score(y_test, y_pred_rf)],\n",
    "\"ROC-AUC\": [roc_auc_score(y_test, y_pred_nb), roc_auc_score(y_test, y_pred_lr), roc_auc_score(y_test, y_pred_rf)]\n",
    "})\n",
    "\n",
    "print(model_results)\n",
    "\n",
    "# Visualize the results\n",
    "sns.barplot(x = \"Model\", y = \"Accuracy\", data = model_results, palette = \"coolwarm\")\n",
    "plt.title(\"Comparison with different models\")\n",
    "plt.show()"
   ]
  },
  {
   "cell_type": "code",
   "execution_count": 255,
   "id": "2d05ab78-7716-4ff3-82b8-774e95bfee09",
   "metadata": {},
   "outputs": [
    {
     "data": {
      "image/png": "[encoded data removed]",
      "text/plain": [
       "<Figure size 640x480 with 2 Axes>"
      ]
     },
     "metadata": {},
     "output_type": "display_data"
    }
   ],
   "source": [
    "# Choosing best model (Logistic Regression Model)\n",
    "best_model = lr_model\n",
    "y_pred_best = y_pred_lr\n",
    "\n",
    "# Confusion Matrix\n",
    "conf_matrix = confusion_matrix(y_test, y_pred_best)\n",
    "conf_matrix = confusion_matrix(y_test, y_pred_best)\n",
    "sns.heatmap(conf_matrix, annot=True, fmt='f', cmap='Purples')\n",
    "plt.xlabel(\"Predicted\")\n",
    "plt.ylabel(\"Actual\")\n",
    "plt.title(\"Confusion Matrix - Best Model\")\n",
    "plt.show()"
   ]
  },
  {
   "cell_type": "markdown",
   "id": "f2799364-4807-471f-b23e-45deefdc6748",
   "metadata": {},
   "source": [
    "## Report Link\n",
    "\n",
    "https://docs.google.com/document/d/19W9f6yg_486Q-3CN1gXPffG2WAbm4pcO/edit?usp=sharing&ouid=101091923509442736382&rtpof=true&sd=true\n",
    "\n",
    "## Video presentation link\n",
    "\n",
    "https://drive.google.com/file/d/1e_HFK0Hbxj-B94CGyiuhuNRbZwUg25_y/view?usp=sharing"
   ]
  },
  {
   "cell_type": "code",
   "execution_count": null,
   "id": "550f06dd-173e-41eb-8503-d4afb9d05b40",
   "metadata": {},
   "outputs": [],
   "source": []
  }
 ],
 "metadata": {
  "kernelspec": {
   "display_name": "Python 3 (ipykernel)",
   "language": "python",
   "name": "python3"
  },
  "language_info": {
   "codemirror_mode": {
    "name": "ipython",
    "version": 3
   },
   "file_extension": ".py",
   "mimetype": "text/x-python",
   "name": "python",
   "nbconvert_exporter": "python",
   "pygments_lexer": "ipython3",
   "version": "3.12.4"
  }
 },
 "nbformat": 4,
 "nbformat_minor": 5
}
